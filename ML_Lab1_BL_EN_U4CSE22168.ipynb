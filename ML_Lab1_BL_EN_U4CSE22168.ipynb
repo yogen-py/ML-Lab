{
  "nbformat": 4,
  "nbformat_minor": 0,
  "metadata": {
    "colab": {
      "provenance": []
    },
    "kernelspec": {
      "name": "python3",
      "display_name": "Python 3"
    },
    "language_info": {
      "name": "python"
    }
  },
  "cells": [
    {
      "cell_type": "markdown",
      "source": [
        "# 1. Write a program to count the number of vowels and consonants in an input String"
      ],
      "metadata": {
        "id": "5q1kqPKCRsAW"
      }
    },
    {
      "cell_type": "code",
      "source": [
        "def find_vowels_and_consonants(input_strings):\n",
        "    vowels = \"aeiouAEIOU\"\n",
        "    vowels_count = 0\n",
        "    consonants = \"qwrtypsdfghjklzxcvbnmQWRTYPSDFGHJKLZXCVBNM\"\n",
        "    consonants_count = 0\n",
        "    for char in input_strings:\n",
        "        if char in vowels:\n",
        "            vowels_count += 1\n",
        "        elif char in consonants:\n",
        "            consonants_count += 1\n",
        "    return vowels_count, consonants_count"
      ],
      "metadata": {
        "id": "rgKBgRF2SFhl"
      },
      "execution_count": 13,
      "outputs": []
    },
    {
      "cell_type": "code",
      "source": [
        "vowCount, consCount = find_vowels_and_consonants(\"Hello, World!\")\n",
        "print(\"Vowels:\", vowCount)\n",
        "print(\"Consonants:\", consCount)"
      ],
      "metadata": {
        "colab": {
          "base_uri": "https://localhost:8080/"
        },
        "id": "RA0RTwpBSSZ3",
        "outputId": "f52a96c5-b9b5-4378-fc38-97b6560622f7"
      },
      "execution_count": 14,
      "outputs": [
        {
          "output_type": "stream",
          "name": "stdout",
          "text": [
            "Vowels: 3\n",
            "Consonants: 7\n"
          ]
        }
      ]
    },
    {
      "cell_type": "code",
      "source": [],
      "metadata": {
        "id": "7uoAeL0FToAw"
      },
      "execution_count": null,
      "outputs": []
    },
    {
      "cell_type": "markdown",
      "source": [
        "\n",
        "# 2. Write a program that accepts two matrices A and B as input and returns their product AB.\n",
        "Check if A & B are multipliable; if not, return error message.\n",
        "\n",
        "\n"
      ],
      "metadata": {
        "id": "k7gsmNQATqqZ"
      }
    },
    {
      "cell_type": "code",
      "source": [
        "import numpy as np\n",
        "\n",
        "def matrix_multiplication(A, B):\n",
        "  if len(A[0]) != len(B):\n",
        "    return \"Error: matrix not multipliable\"\n",
        "  else:\n",
        "    rows = len(A)\n",
        "    cols = len(B[0])\n",
        "    C = [[0 for _ in range(cols)] for _ in range(rows)]\n",
        "    for i in range(rows):\n",
        "      for j in range(cols):\n",
        "        for k in range(len(B)):\n",
        "          C[i][j] += A[i][k]*B[k][j]\n",
        "\n",
        "\n",
        "    return C\n",
        "\n",
        "\n",
        ""
      ],
      "metadata": {
        "id": "EAkWPktvT7dm"
      },
      "execution_count": 31,
      "outputs": []
    },
    {
      "cell_type": "code",
      "source": [
        "a = [[1,2,3,4,5],[1,2,3,4,5],[1,2,3,4,5],[1,2,3,4,5]]\n",
        "b = [[1,2,3,4],[1,2,3,4],[1,2,3,4],[1,2,3,4],[1,2,3,4]]\n",
        "print(len(a[0]))\n",
        "print(len(a))\n",
        "matrix_multiplication(a,b)\n",
        "mat1 = [[1, 2, 3], [4, 5, 6]]\n",
        "mat2 = [[7, 8], [9, 10], [11, 12]]\n",
        "matrix_multiplication(mat1, mat2)\n",
        "mat3 = [[1, 2], [3, 4], [5, 6]]\n",
        "mat4 = [[7, 8], [9, 10]]\n",
        "matrix_multiplication(mat3, mat4)\n",
        "\n"
      ],
      "metadata": {
        "colab": {
          "base_uri": "https://localhost:8080/"
        },
        "id": "FChdlC0vUK_U",
        "outputId": "d189f56f-7f96-453d-b37b-0c9077d7a5b6"
      },
      "execution_count": 32,
      "outputs": [
        {
          "output_type": "stream",
          "name": "stdout",
          "text": [
            "5\n",
            "4\n"
          ]
        },
        {
          "output_type": "execute_result",
          "data": {
            "text/plain": [
              "[[25, 28], [57, 64], [89, 100]]"
            ]
          },
          "metadata": {},
          "execution_count": 32
        }
      ]
    },
    {
      "cell_type": "code",
      "source": [],
      "metadata": {
        "id": "_15YrfNyWmJr"
      },
      "execution_count": null,
      "outputs": []
    },
    {
      "cell_type": "markdown",
      "source": [
        "# Write a program to find the number of common elements between two lists. The lists contain integers."
      ],
      "metadata": {
        "id": "Dio-s1AweHPS"
      }
    },
    {
      "cell_type": "code",
      "source": [
        "def common_counter(list1, list2):\n",
        "    common_elements_count = 0\n",
        "    for i in list1 and list2:\n",
        "      if i in list1 and list2:\n",
        "        common_elements_count +=1\n",
        "\n",
        "    return common_elements_count"
      ],
      "metadata": {
        "id": "Boom-IcleJsr"
      },
      "execution_count": 36,
      "outputs": []
    },
    {
      "cell_type": "code",
      "source": [
        "print(common_counter([1,2,3,4,5,6,78,9],[1,2,3,4,5,6,7,89,7]))"
      ],
      "metadata": {
        "colab": {
          "base_uri": "https://localhost:8080/"
        },
        "id": "fAV2V6LxfAYu",
        "outputId": "363213b0-d6fc-499a-aa3d-adf1fd824a65"
      },
      "execution_count": 37,
      "outputs": [
        {
          "output_type": "stream",
          "name": "stdout",
          "text": [
            "6\n"
          ]
        }
      ]
    },
    {
      "cell_type": "markdown",
      "source": [
        "# Write a program that accepts a matrix as input and returns its transpose"
      ],
      "metadata": {
        "id": "TGlhbx0kePIt"
      }
    },
    {
      "cell_type": "code",
      "source": [
        "def transpose(matrix):\n",
        "  rows = len(matrix)\n",
        "  cols = len(matrix[0])\n",
        "  transpose_matrix = [[0 for _ in range(rows)] for _ in range(cols)]\n",
        "  for i in range(rows):\n",
        "      for j in range(cols):\n",
        "        transpose_matrix[j][i] = matrix[i][j]\n",
        "  return transpose_matrix"
      ],
      "metadata": {
        "id": "o7NZ8wgIeQu6"
      },
      "execution_count": 44,
      "outputs": []
    },
    {
      "cell_type": "code",
      "source": [
        "def main():\n",
        "  matrix = [[1, 2, 3], [4, 5, 6], [7, 8, 9]]\n",
        "  transpose_matrix = transpose(matrix)\n",
        "  print(transpose_matrix)\n",
        "  matrix1 = [[1, 2, 3], [4, 5, 6]]\n",
        "  matrix2 = [[7, 8], [9, 10], [11, 12]]\n",
        "  print(matrix_multiplication(matrix1, matrix2))\n",
        "  matrix3 = [[1, 2], [3, 4], [5, 6]]\n",
        "  matrix4 = [[7, 8], [9, 10]]\n",
        "  print(matrix_multiplication(matrix3, matrix4))\n",
        "  list1 = [1, 2, 3, 4, 5]\n",
        "  list2 = [6, 7, 8, 9, 10]\n",
        "  print(common_counter(list1, list2))\n",
        "  input_string = \"Hello, World!\"\n",
        "  vowels_count, consonants_count = find_vowels_and_consonants(input_string)\n",
        "  print(\"Vowels:\", vowels_count)\n",
        "  print(\"Consonants:\", consonants_count)\n",
        "\n",
        "if __name__ == \"__main__\":\n",
        "  main()\n",
        "\n"
      ],
      "metadata": {
        "colab": {
          "base_uri": "https://localhost:8080/"
        },
        "id": "GqN2nuTBgG89",
        "outputId": "be314a7a-5098-426c-e01c-8a5a152f4497"
      },
      "execution_count": 48,
      "outputs": [
        {
          "output_type": "stream",
          "name": "stdout",
          "text": [
            "[[1, 4, 7], [2, 5, 8], [3, 6, 9]]\n",
            "None\n",
            "[[58, 64], [139, 154]]\n",
            "[[25, 28], [57, 64], [89, 100]]\n",
            "0\n",
            "Vowels: 3\n",
            "Consonants: 7\n"
          ]
        }
      ]
    },
    {
      "cell_type": "code",
      "source": [],
      "metadata": {
        "id": "CLFK5nERibyX"
      },
      "execution_count": null,
      "outputs": []
    }
  ]
}